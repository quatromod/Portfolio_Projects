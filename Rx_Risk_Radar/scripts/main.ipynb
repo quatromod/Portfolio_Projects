{
 "cells": [
  {
   "cell_type": "code",
   "execution_count": 47,
   "id": "9a09d683",
   "metadata": {},
   "outputs": [],
   "source": [
    "import pandas as pd\n",
    "import os"
   ]
  },
  {
   "cell_type": "code",
   "execution_count": 48,
   "id": "e9ea26c9",
   "metadata": {},
   "outputs": [],
   "source": [
    "# Set path to your raw data\n",
    "data_path = \"/Users/a.avira/Pet/Portfolio_Projects/Rx_Risk_Radar/data/raw\""
   ]
  },
  {
   "cell_type": "code",
   "execution_count": 49,
   "id": "2b9dda6a",
   "metadata": {},
   "outputs": [
    {
     "name": "stdout",
     "output_type": "stream",
     "text": [
      "/Users/a.avira/Pet/Portfolio_Projects/Rx_Risk_Radar/data/raw\n"
     ]
    }
   ],
   "source": [
    "print(data_path)"
   ]
  },
  {
   "cell_type": "code",
   "execution_count": 50,
   "id": "f22e22dc",
   "metadata": {},
   "outputs": [
    {
     "data": {
      "text/plain": [
       "['THER20Q4.txt',\n",
       " 'DEMO20Q4.txt',\n",
       " 'RPSR20Q4.txt',\n",
       " 'INDI20Q4.txt',\n",
       " 'DRUG20Q4.txt',\n",
       " 'FDA-FAERS-Data-Dictionary.pdf',\n",
       " 'OUTC20Q4.txt',\n",
       " 'REAC20Q4.txt']"
      ]
     },
     "execution_count": 50,
     "metadata": {},
     "output_type": "execute_result"
    }
   ],
   "source": [
    "#Checking if the working directory is working properly and all the files are there\n",
    "os.listdir(data_path)"
   ]
  },
  {
   "cell_type": "code",
   "execution_count": 67,
   "id": "0f11ee39",
   "metadata": {},
   "outputs": [],
   "source": [
    "# Load the pipe-delimited FAERS demo file\n",
    "# demo = pd.read_csv(\"DEMO20Q4.txt\", sep=\"$\", encoding='latin1')\n",
    "\n",
    "demo = pd.read_csv(os.path.join(data_path, \"DEMO20Q4.txt\"), sep='$', encoding='latin1',  low_memory=False)\n",
    "drug = pd.read_csv(os.path.join(data_path, \"DRUG20Q4.txt\"), sep='$', encoding='latin1',  low_memory=False)\n",
    "reac = pd.read_csv(os.path.join(data_path, \"REAC20Q4.txt\"), sep='$', encoding='latin1',  low_memory=False)\n"
   ]
  },
  {
   "cell_type": "code",
   "execution_count": 68,
   "id": "ca2c72be",
   "metadata": {},
   "outputs": [],
   "source": [
    "# The FAERS .txt files are large and contain mixed data types (e.g., strings and numbers in the same column).\n",
    "# Setting low_memory=False tells pandas to read the entire file into memory before inferring data types.\n",
    "# This avoids DtypeWarning messages and ensures more accurate and consistent column type detection.\n",
    "# low_memory=True (default)"
   ]
  },
  {
   "cell_type": "code",
   "execution_count": 62,
   "id": "6aec2f36",
   "metadata": {},
   "outputs": [
    {
     "name": "stdout",
     "output_type": "stream",
     "text": [
      "0: primaryid\n",
      "1: caseid\n",
      "2: caseversion\n",
      "3: i_f_code\n",
      "4: event_dt\n",
      "5: mfr_dt\n",
      "6: init_fda_dt\n",
      "7: fda_dt\n",
      "8: rept_cod\n",
      "9: auth_num\n",
      "10: mfr_num\n",
      "11: mfr_sndr\n",
      "12: lit_ref\n",
      "13: age\n",
      "14: age_cod\n",
      "15: age_grp\n",
      "16: sex\n",
      "17: e_sub\n",
      "18: wt\n",
      "19: wt_cod\n",
      "20: rept_dt\n",
      "21: to_mfr\n",
      "22: occp_cod\n",
      "23: reporter_country\n",
      "24: occr_country\n"
     ]
    }
   ],
   "source": [
    "# Checking what data we have in Column 21\n",
    "for i, col in enumerate(demo.columns):\n",
    "    print(f\"{i}: {col}\")"
   ]
  },
  {
   "cell_type": "code",
   "execution_count": 63,
   "id": "a21aef85",
   "metadata": {},
   "outputs": [
    {
     "name": "stdout",
     "output_type": "stream",
     "text": [
      "Demo shape: (436148, 25)\n"
     ]
    },
    {
     "data": {
      "text/html": [
       "<div>\n",
       "<style scoped>\n",
       "    .dataframe tbody tr th:only-of-type {\n",
       "        vertical-align: middle;\n",
       "    }\n",
       "\n",
       "    .dataframe tbody tr th {\n",
       "        vertical-align: top;\n",
       "    }\n",
       "\n",
       "    .dataframe thead th {\n",
       "        text-align: right;\n",
       "    }\n",
       "</style>\n",
       "<table border=\"1\" class=\"dataframe\">\n",
       "  <thead>\n",
       "    <tr style=\"text-align: right;\">\n",
       "      <th></th>\n",
       "      <th>primaryid</th>\n",
       "      <th>caseid</th>\n",
       "      <th>caseversion</th>\n",
       "      <th>i_f_code</th>\n",
       "      <th>event_dt</th>\n",
       "      <th>mfr_dt</th>\n",
       "      <th>init_fda_dt</th>\n",
       "      <th>fda_dt</th>\n",
       "      <th>rept_cod</th>\n",
       "      <th>auth_num</th>\n",
       "      <th>...</th>\n",
       "      <th>age_grp</th>\n",
       "      <th>sex</th>\n",
       "      <th>e_sub</th>\n",
       "      <th>wt</th>\n",
       "      <th>wt_cod</th>\n",
       "      <th>rept_dt</th>\n",
       "      <th>to_mfr</th>\n",
       "      <th>occp_cod</th>\n",
       "      <th>reporter_country</th>\n",
       "      <th>occr_country</th>\n",
       "    </tr>\n",
       "  </thead>\n",
       "  <tbody>\n",
       "    <tr>\n",
       "      <th>0</th>\n",
       "      <td>100046573</td>\n",
       "      <td>10004657</td>\n",
       "      <td>3</td>\n",
       "      <td>F</td>\n",
       "      <td>20120731.0</td>\n",
       "      <td>20201030.0</td>\n",
       "      <td>20140312</td>\n",
       "      <td>20201103</td>\n",
       "      <td>EXP</td>\n",
       "      <td>NaN</td>\n",
       "      <td>...</td>\n",
       "      <td>NaN</td>\n",
       "      <td>F</td>\n",
       "      <td>Y</td>\n",
       "      <td>81.63</td>\n",
       "      <td>KG</td>\n",
       "      <td>20201103.0</td>\n",
       "      <td>NaN</td>\n",
       "      <td>LW</td>\n",
       "      <td>US</td>\n",
       "      <td>US</td>\n",
       "    </tr>\n",
       "    <tr>\n",
       "      <th>1</th>\n",
       "      <td>100046962</td>\n",
       "      <td>10004696</td>\n",
       "      <td>2</td>\n",
       "      <td>F</td>\n",
       "      <td>NaN</td>\n",
       "      <td>20201019.0</td>\n",
       "      <td>20140312</td>\n",
       "      <td>20201021</td>\n",
       "      <td>EXP</td>\n",
       "      <td>NaN</td>\n",
       "      <td>...</td>\n",
       "      <td>NaN</td>\n",
       "      <td>M</td>\n",
       "      <td>Y</td>\n",
       "      <td>NaN</td>\n",
       "      <td>NaN</td>\n",
       "      <td>20201021.0</td>\n",
       "      <td>NaN</td>\n",
       "      <td>HP</td>\n",
       "      <td>PL</td>\n",
       "      <td>PL</td>\n",
       "    </tr>\n",
       "    <tr>\n",
       "      <th>2</th>\n",
       "      <td>100048793</td>\n",
       "      <td>10004879</td>\n",
       "      <td>3</td>\n",
       "      <td>F</td>\n",
       "      <td>20050908.0</td>\n",
       "      <td>20201030.0</td>\n",
       "      <td>20140312</td>\n",
       "      <td>20201102</td>\n",
       "      <td>EXP</td>\n",
       "      <td>NaN</td>\n",
       "      <td>...</td>\n",
       "      <td>NaN</td>\n",
       "      <td>F</td>\n",
       "      <td>Y</td>\n",
       "      <td>NaN</td>\n",
       "      <td>NaN</td>\n",
       "      <td>20201102.0</td>\n",
       "      <td>NaN</td>\n",
       "      <td>LW</td>\n",
       "      <td>US</td>\n",
       "      <td>US</td>\n",
       "    </tr>\n",
       "    <tr>\n",
       "      <th>3</th>\n",
       "      <td>100051383</td>\n",
       "      <td>10005138</td>\n",
       "      <td>3</td>\n",
       "      <td>F</td>\n",
       "      <td>1999.0</td>\n",
       "      <td>20201018.0</td>\n",
       "      <td>20140312</td>\n",
       "      <td>20201020</td>\n",
       "      <td>EXP</td>\n",
       "      <td>NaN</td>\n",
       "      <td>...</td>\n",
       "      <td>NaN</td>\n",
       "      <td>F</td>\n",
       "      <td>Y</td>\n",
       "      <td>83.00</td>\n",
       "      <td>KG</td>\n",
       "      <td>20201020.0</td>\n",
       "      <td>NaN</td>\n",
       "      <td>LW</td>\n",
       "      <td>US</td>\n",
       "      <td>US</td>\n",
       "    </tr>\n",
       "    <tr>\n",
       "      <th>4</th>\n",
       "      <td>100075524</td>\n",
       "      <td>10007552</td>\n",
       "      <td>4</td>\n",
       "      <td>F</td>\n",
       "      <td>199908.0</td>\n",
       "      <td>20201018.0</td>\n",
       "      <td>20140313</td>\n",
       "      <td>20201021</td>\n",
       "      <td>EXP</td>\n",
       "      <td>NaN</td>\n",
       "      <td>...</td>\n",
       "      <td>NaN</td>\n",
       "      <td>F</td>\n",
       "      <td>Y</td>\n",
       "      <td>90.70</td>\n",
       "      <td>KG</td>\n",
       "      <td>20201021.0</td>\n",
       "      <td>NaN</td>\n",
       "      <td>LW</td>\n",
       "      <td>US</td>\n",
       "      <td>US</td>\n",
       "    </tr>\n",
       "  </tbody>\n",
       "</table>\n",
       "<p>5 rows × 25 columns</p>\n",
       "</div>"
      ],
      "text/plain": [
       "   primaryid    caseid  caseversion i_f_code    event_dt      mfr_dt  \\\n",
       "0  100046573  10004657            3        F  20120731.0  20201030.0   \n",
       "1  100046962  10004696            2        F         NaN  20201019.0   \n",
       "2  100048793  10004879            3        F  20050908.0  20201030.0   \n",
       "3  100051383  10005138            3        F      1999.0  20201018.0   \n",
       "4  100075524  10007552            4        F    199908.0  20201018.0   \n",
       "\n",
       "   init_fda_dt    fda_dt rept_cod auth_num  ... age_grp sex e_sub     wt  \\\n",
       "0     20140312  20201103      EXP      NaN  ...     NaN   F     Y  81.63   \n",
       "1     20140312  20201021      EXP      NaN  ...     NaN   M     Y    NaN   \n",
       "2     20140312  20201102      EXP      NaN  ...     NaN   F     Y    NaN   \n",
       "3     20140312  20201020      EXP      NaN  ...     NaN   F     Y  83.00   \n",
       "4     20140313  20201021      EXP      NaN  ...     NaN   F     Y  90.70   \n",
       "\n",
       "  wt_cod     rept_dt to_mfr occp_cod  reporter_country occr_country  \n",
       "0     KG  20201103.0    NaN       LW                US           US  \n",
       "1    NaN  20201021.0    NaN       HP                PL           PL  \n",
       "2    NaN  20201102.0    NaN       LW                US           US  \n",
       "3     KG  20201020.0    NaN       LW                US           US  \n",
       "4     KG  20201021.0    NaN       LW                US           US  \n",
       "\n",
       "[5 rows x 25 columns]"
      ]
     },
     "execution_count": 63,
     "metadata": {},
     "output_type": "execute_result"
    }
   ],
   "source": [
    "# Check the shape and preview\n",
    "print(\"Demo shape:\", demo.shape)\n",
    "demo.head()"
   ]
  },
  {
   "cell_type": "code",
   "execution_count": null,
   "id": "194191d9",
   "metadata": {},
   "outputs": [],
   "source": []
  },
  {
   "cell_type": "code",
   "execution_count": 64,
   "id": "880661d1",
   "metadata": {},
   "outputs": [
    {
     "name": "stdout",
     "output_type": "stream",
     "text": [
      "Demo shape: (436148, 25)\n",
      "Drug shape: (1918927, 20)\n",
      "Reac shape: (1522657, 4)\n"
     ]
    }
   ],
   "source": [
    "# Quick check\n",
    "print(\"Demo shape:\", demo.shape)\n",
    "print(\"Drug shape:\", drug.shape)\n",
    "print(\"Reac shape:\", reac.shape)"
   ]
  },
  {
   "cell_type": "code",
   "execution_count": null,
   "id": "41160e34",
   "metadata": {},
   "outputs": [],
   "source": []
  },
  {
   "cell_type": "code",
   "execution_count": null,
   "id": "dba5fb4b",
   "metadata": {},
   "outputs": [],
   "source": []
  }
 ],
 "metadata": {
  "kernelspec": {
   "display_name": "Python 3 (ipykernel)",
   "language": "python",
   "name": "python3"
  },
  "language_info": {
   "codemirror_mode": {
    "name": "ipython",
    "version": 3
   },
   "file_extension": ".py",
   "mimetype": "text/x-python",
   "name": "python",
   "nbconvert_exporter": "python",
   "pygments_lexer": "ipython3",
   "version": "3.9.12"
  }
 },
 "nbformat": 4,
 "nbformat_minor": 5
}
